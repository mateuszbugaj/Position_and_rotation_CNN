{
 "cells": [
  {
   "cell_type": "code",
   "execution_count": 3,
   "metadata": {},
   "outputs": [],
   "source": [
    "import tensorflow as tf\n",
    "from tensorflow.keras.models import Sequential\n",
    "from tensorflow.keras.layers import Dense, Dropout, Activation\n",
    "from tensorflow.keras.optimizers import SGD\n",
    "import numpy as np \n",
    "\n",
    "X = np.array([[0,0],[0,1],[1,0],[1,1]])\n",
    "y = np.array([[0],[1],[1],[0]])\n",
    "\n",
    "model = Sequential()\n",
    "model.add(Dense(8, input_dim=2))\n",
    "model.add(Activation('tanh'))\n",
    "model.add(Dense(1))\n",
    "model.add(Activation('sigmoid'))\n",
    "\n",
    "def acc(y_true, y_pred):\n",
    "    x = tf.math.count_nonzero(tf.math.less(tf.math.abs(tf.subtract(y_true, y_pred)), 0.5))\n",
    "    print(\"\\n\")\n",
    "    print(y_true.numpy())\n",
    "    return x\n",
    "\n",
    "sgd = SGD(lr=0.1)\n",
    "model.compile(loss='binary_crossentropy', optimizer=sgd, metrics=['accuracy', acc], run_eagerly=True)"
   ]
  },
  {
   "cell_type": "code",
   "execution_count": 4,
   "metadata": {
    "scrolled": false
   },
   "outputs": [
    {
     "name": "stdout",
     "output_type": "stream",
     "text": [
      "Epoch 1/5\n",
      "\n",
      "\n",
      "[[0.]]\n",
      "1/4 [======>.......................] - ETA: 0s - loss: 0.6931 - accuracy: 1.0000 - acc: 0.0000e+00\n",
      "\n",
      "[[1.]]\n",
      "\n",
      "\n",
      "[[0.]]\n",
      "\n",
      "\n",
      "[[1.]]\n",
      "4/4 [==============================] - 0s 5ms/step - loss: 0.7623 - accuracy: 0.7500 - acc: 0.5000\n",
      "Epoch 2/5\n",
      "\n",
      "\n",
      "[[1.]]\n",
      "1/4 [======>.......................] - ETA: 0s - loss: 0.9274 - accuracy: 0.0000e+00 - acc: 0.0000e+00\n",
      "\n",
      "[[0.]]\n",
      "\n",
      "\n",
      "[[0.]]\n",
      "\n",
      "\n",
      "[[1.]]\n",
      "4/4 [==============================] - 0s 5ms/step - loss: 0.7582 - accuracy: 0.2500 - acc: 0.2500    \n",
      "Epoch 3/5\n",
      "\n",
      "\n",
      "[[0.]]\n",
      "1/4 [======>.......................] - ETA: 0s - loss: 0.7040 - accuracy: 0.0000e+00 - acc: 0.0000e+00\n",
      "\n",
      "[[0.]]\n",
      "\n",
      "\n",
      "[[1.]]\n",
      "\n",
      "\n",
      "[[1.]]\n",
      "4/4 [==============================] - 0s 5ms/step - loss: 0.7525 - accuracy: 0.5000 - acc: 0.5000    \n",
      "Epoch 4/5\n",
      "\n",
      "\n",
      "[[1.]]\n",
      "1/4 [======>.......................] - ETA: 0s - loss: 0.8692 - accuracy: 0.0000e+00 - acc: 0.0000e+00\n",
      "\n",
      "[[1.]]\n",
      "\n",
      "\n",
      "[[0.]]\n",
      "\n",
      "\n",
      "[[0.]]\n",
      "4/4 [==============================] - 0s 5ms/step - loss: 0.7499 - accuracy: 0.2500 - acc: 0.2500    \n",
      "Epoch 5/5\n",
      "\n",
      "\n",
      "[[1.]]\n",
      "1/4 [======>.......................] - ETA: 0s - loss: 0.5674 - accuracy: 1.0000 - acc: 1.0000\n",
      "\n",
      "[[0.]]\n",
      "\n",
      "\n",
      "[[1.]]\n",
      "\n",
      "\n",
      "[[0.]]\n",
      "4/4 [==============================] - 0s 5ms/step - loss: 0.7505 - accuracy: 0.2500 - acc: 0.2500\n"
     ]
    }
   ],
   "source": [
    "history = model.fit(X, y, batch_size=1, epochs=5)"
   ]
  },
  {
   "cell_type": "code",
   "execution_count": 55,
   "metadata": {},
   "outputs": [
    {
     "name": "stdout",
     "output_type": "stream",
     "text": [
      "[[0.39554906]\n",
      " [0.6221133 ]\n",
      " [0.3815064 ]\n",
      " [0.5514759 ]]\n"
     ]
    }
   ],
   "source": [
    "print(model.predict(X))"
   ]
  },
  {
   "cell_type": "code",
   "execution_count": 29,
   "metadata": {},
   "outputs": [
    {
     "data": {
      "text/plain": [
       "{'loss': [0.004470061045140028,\n",
       "  0.004464050754904747,\n",
       "  0.004457972012460232,\n",
       "  0.004451903514564037,\n",
       "  0.0044459025375545025,\n",
       "  0.00443985965102911,\n",
       "  0.004433854017406702,\n",
       "  0.004427873995155096,\n",
       "  0.0044219172559678555,\n",
       "  0.004415967967361212],\n",
       " 'accuracy': [1.0, 1.0, 1.0, 1.0, 1.0, 1.0, 1.0, 1.0, 1.0, 1.0],\n",
       " 'acc': [1.0, 1.0, 1.0, 1.0, 1.0, 1.0, 1.0, 1.0, 1.0, 1.0]}"
      ]
     },
     "execution_count": 29,
     "metadata": {},
     "output_type": "execute_result"
    }
   ],
   "source": [
    "history.history"
   ]
  },
  {
   "cell_type": "code",
   "execution_count": 87,
   "metadata": {},
   "outputs": [
    {
     "name": "stdout",
     "output_type": "stream",
     "text": [
      "Value:  tf.Tensor([ 1. 15. 10.], shape=(3,), dtype=float64)\n",
      "Result:  [ 1. 15. 10.]\n"
     ]
    }
   ],
   "source": [
    "# importing the library \n",
    "import tensorflow as tf \n",
    "  \n",
    "# Initializing Input \n",
    "value = tf.constant([1, 15, 10], dtype = tf.float64) \n",
    "  \n",
    "# Printing the Input \n",
    "print(\"Value: \", value) \n",
    "  \n",
    "# Converting Tensor to TensorProto \n",
    "proto = tf.make_tensor_proto(value) \n",
    "  \n",
    "# Generating numpy array \n",
    "res = tf.make_ndarray(proto) \n",
    "  \n",
    "# Printing the resulting numpy array \n",
    "print(\"Result: \", res) "
   ]
  },
  {
   "cell_type": "code",
   "execution_count": null,
   "metadata": {},
   "outputs": [],
   "source": []
  }
 ],
 "metadata": {
  "kernelspec": {
   "display_name": "Python 3",
   "language": "python",
   "name": "python3"
  },
  "language_info": {
   "codemirror_mode": {
    "name": "ipython",
    "version": 3
   },
   "file_extension": ".py",
   "mimetype": "text/x-python",
   "name": "python",
   "nbconvert_exporter": "python",
   "pygments_lexer": "ipython3",
   "version": "3.8.2"
  }
 },
 "nbformat": 4,
 "nbformat_minor": 4
}
